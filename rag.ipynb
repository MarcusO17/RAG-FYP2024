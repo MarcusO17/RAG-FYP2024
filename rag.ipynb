{
 "cells": [
  {
   "cell_type": "markdown",
   "metadata": {},
   "source": [
    "** TODO **\n",
    "1. Get custom LLM class"
   ]
  },
  {
   "cell_type": "code",
   "execution_count": 24,
   "metadata": {},
   "outputs": [],
   "source": [
    "from components import Components\n",
    "from llama_index.core import Settings\n",
    "\n",
    "from llama_index.vector_stores.chroma import ChromaVectorStore\n",
    "from llama_index.core import StorageContext, SimpleDirectoryReader\n",
    "from llama_index.core.ingestion import IngestionPipeline\n",
    "from llama_index.core import VectorStoreIndex\n",
    "from llama_index.core import PromptTemplate,Document \n",
    "\n",
    "\n",
    "from llama_index.core.node_parser import SentenceSplitter\n",
    "\n",
    "import pandas as pd"
   ]
  },
  {
   "cell_type": "code",
   "execution_count": 25,
   "metadata": {},
   "outputs": [],
   "source": [
    "#initialise components, reranker and retriever\n",
    "rag_components = Components(\"Snowflake/snowflake-arctic-embed-s\",\"mixedbread-ai/mxbai-embed-large-v1\",\"mixtral-8x7b-32768\")"
   ]
  },
  {
   "cell_type": "code",
   "execution_count": 26,
   "metadata": {},
   "outputs": [
    {
     "data": {
      "text/plain": [
       "'mixtral-8x7b-32768'"
      ]
     },
     "execution_count": 26,
     "metadata": {},
     "output_type": "execute_result"
    }
   ],
   "source": [
    "rag_components.model_name"
   ]
  },
  {
   "cell_type": "markdown",
   "metadata": {},
   "source": [
    "Setting Contexts\n"
   ]
  },
  {
   "cell_type": "code",
   "execution_count": 27,
   "metadata": {},
   "outputs": [
    {
     "name": "stdout",
     "output_type": "stream",
     "text": [
      "Embedding model loaded!\n"
     ]
    }
   ],
   "source": [
    "Settings.embed_model = rag_components.get_embedding_model()\n",
    "Settings.llm = rag_components.get_groq_llm()"
   ]
  },
  {
   "cell_type": "code",
   "execution_count": 28,
   "metadata": {},
   "outputs": [],
   "source": [
    "vector_store = ChromaVectorStore(chroma_collection=rag_components.get_db())\n",
    "storage_context = StorageContext.from_defaults(vector_store=vector_store)"
   ]
  },
  {
   "cell_type": "markdown",
   "metadata": {},
   "source": [
    "Loading Papers"
   ]
  },
  {
   "cell_type": "code",
   "execution_count": 29,
   "metadata": {},
   "outputs": [],
   "source": [
    "df = pd.read_parquet('data/test/test_neural_bridge_qa.parquet')"
   ]
  },
  {
   "cell_type": "code",
   "execution_count": 30,
   "metadata": {},
   "outputs": [],
   "source": [
    "df.to_csv('data/test/test_neural_bridge_qa.csv', index=False)"
   ]
  },
  {
   "cell_type": "code",
   "execution_count": 31,
   "metadata": {},
   "outputs": [],
   "source": [
    "context_list = []\n",
    "for contexts in df['context'][:128]:\n",
    "    context_list.append(Document(text=contexts))"
   ]
  },
  {
   "cell_type": "code",
   "execution_count": 32,
   "metadata": {},
   "outputs": [],
   "source": [
    "pipeline = IngestionPipeline(\n",
    "    transformations=[\n",
    "          #SentenceSplitter(chunk_size=1000, chunk_overlap=200),\n",
    "    ],\n",
    "    vector_store=vector_store,\n",
    ")"
   ]
  },
  {
   "cell_type": "code",
   "execution_count": 33,
   "metadata": {},
   "outputs": [],
   "source": [
    "documents = pipeline.run(documents=context_list)"
   ]
  },
  {
   "cell_type": "code",
   "execution_count": 34,
   "metadata": {},
   "outputs": [],
   "source": [
    "index = VectorStoreIndex.from_documents(documents, storage_context=storage_context,similarity_top_k=5) #node_postprocessors=[rag_components.get_reranker()]\n",
    " "
   ]
  },
  {
   "cell_type": "code",
   "execution_count": 35,
   "metadata": {},
   "outputs": [],
   "source": [
    "query_engine = index.as_query_engine(streaming=True,similarity_top_k=3)"
   ]
  },
  {
   "cell_type": "code",
   "execution_count": 36,
   "metadata": {},
   "outputs": [],
   "source": [
    "qa_prompt_template_str = \"\"\"\n",
    "Context: {context_str}\n",
    "Instructions:\n",
    "- Be helpful and answer questions concisely. If you don't know the answer, say 'I don't know'\n",
    "- Utilize the context provided for accurate and specific information.\n",
    "- Incorporate your preexisting knowledge to enhance the depth and relevance of your response.\n",
    "- Be concise and to the point.\n",
    "Question: {query_str}\n",
    "\"\"\"\n",
    "\n",
    "\n",
    "qa_prompt_template = PromptTemplate(qa_prompt_template_str)\n",
    "query_engine.update_prompts(\n",
    "    {\"response_synthesizer:text_qa_template\":qa_prompt_template}\n",
    ")\n"
   ]
  },
  {
   "cell_type": "code",
   "execution_count": 37,
   "metadata": {},
   "outputs": [],
   "source": [
    "query_engine.update_prompts(\n",
    "    {\"response_synthesizer:refine_template\":PromptTemplate(\"\")}\n",
    ")\n"
   ]
  },
  {
   "cell_type": "code",
   "execution_count": 38,
   "metadata": {},
   "outputs": [],
   "source": [
    "question_list = []\n",
    "for questions in df['question'][:128]:\n",
    "    question_list.append(questions)\n",
    "    "
   ]
  },
  {
   "cell_type": "code",
   "execution_count": 39,
   "metadata": {},
   "outputs": [
    {
     "name": "stdout",
     "output_type": "stream",
     "text": [
      "Who is the music director of the Quebec Symphony Orchestra?\n",
      "I don't have real-time information access, so I can't provide the current music director of the Quebec Symphony Orchestra. However, as of 2021, the music director is Fabien Gabel.\n",
      "--------------------------------------------------------------------------------------------------------------------------------------------------------------------------------------------------------\n",
      "0/128\n",
      "Who were the four students of the University of Port Harcourt that were allegedly murdered?\n",
      "I'm sorry, but the context provided does not mention anything about four students of the University of Port Harcourt being allegedly murdered. I did a quick search, and according to several news sources, four students of the University of Port Harcourt were indeed allegedly murdered in 2012. Their names were Lloyd Mikari, Tekena Elkanah, Chiadika Biringa, and Ugonna Obuzor. However, I don't have any further information about the circumstances of their death or the progress of any investigation.\n",
      "--------------------------------------------------------------------------------------------------------------------------------------------------------------------------------------------------------\n",
      "1/128\n",
      "What did Paul Wall offer to all U.S. Olympic Medalists?\n",
      "Paul Wall offered to give free gold grills to all U.S. Olympic Medalists in 2016. This offer was made as a way to celebrate their athletic achievements and as a nod to the growing trend of gold grills in hip-hop culture.\n",
      "--------------------------------------------------------------------------------------------------------------------------------------------------------------------------------------------------------\n",
      "2/128\n",
      "What are the main agricultural products that African countries export to the rest of the world?\n",
      "African countries mainly export cocoa, edible fruit and nuts, coffee and tea, and vegetables to the rest of the world.\n",
      "--------------------------------------------------------------------------------------------------------------------------------------------------------------------------------------------------------\n",
      "3/128\n",
      "What is the main goal of the CHI 2011 workshop on large interactive displays in public urban contexts?\n",
      "The main goal of the CHI 2011 workshop on large interactive displays in public urban contexts is to bring together researchers and practitioners from different disciplines such as art, architecture, design, HCI, social sciences, and media theory to exchange insights and establish a more general understanding of large interactive displays in public urban settings. The workshop aims to trigger active and dynamic group discussions around the topics of designing large interactive display installations that promote engaging experiences beyond playful interaction, understanding how different interaction models shape people’s experience in urban spaces, and evaluating their impact. The ultimate goal is to develop an agenda for future research directions in this area.\n",
      "--------------------------------------------------------------------------------------------------------------------------------------------------------------------------------------------------------\n",
      "4/128\n",
      "Can you get a cash advance without a bank account?\n",
      "Yes, it is possible to get a cash advance without a bank account, but not with a regular credit card. You can get a cash advance with a secured credit card or a prepaid debit card. However, it's important to note that secured credit cards usually have higher fees and costs compared to mainstream credit cards. Also, while using a secured credit card responsibly can help improve your credit score, cash advances on secured credit cards may not help improve your credit score as they are not reported to credit bureaus. Prepaid debit cards, on the other hand, do not help improve credit scores.\n",
      "--------------------------------------------------------------------------------------------------------------------------------------------------------------------------------------------------------\n",
      "5/128\n",
      "Who is Theron Shan in the context?\n"
     ]
    }
   ],
   "source": [
    "import time\n",
    "for i in range(len(question_list)): \n",
    "    time.sleep(3)\n",
    "    print(question_list[i])\n",
    "    response = query_engine.query(question_list[i])\n",
    "    response.print_response_stream()\n",
    "    rowIndex = df.index[i]\n",
    "\n",
    "    df.at[rowIndex, 'gen_answer'] = response.response_txt\n",
    "    print('')\n",
    "    print(\"--\"*100)\n",
    "    print(f'{i}/{128}')\n",
    " \n"
   ]
  },
  {
   "cell_type": "code",
   "execution_count": null,
   "metadata": {},
   "outputs": [
    {
     "data": {
      "text/html": [
       "<div>\n",
       "<style scoped>\n",
       "    .dataframe tbody tr th:only-of-type {\n",
       "        vertical-align: middle;\n",
       "    }\n",
       "\n",
       "    .dataframe tbody tr th {\n",
       "        vertical-align: top;\n",
       "    }\n",
       "\n",
       "    .dataframe thead th {\n",
       "        text-align: right;\n",
       "    }\n",
       "</style>\n",
       "<table border=\"1\" class=\"dataframe\">\n",
       "  <thead>\n",
       "    <tr style=\"text-align: right;\">\n",
       "      <th></th>\n",
       "      <th>context</th>\n",
       "      <th>question</th>\n",
       "      <th>answer</th>\n",
       "      <th>gen_answer</th>\n",
       "    </tr>\n",
       "  </thead>\n",
       "  <tbody>\n",
       "    <tr>\n",
       "      <th>0</th>\n",
       "      <td>HOUSTON (Jan. 23, 2018) – Fabien Gabel, music ...</td>\n",
       "      <td>Who is the music director of the Quebec Sympho...</td>\n",
       "      <td>The music director of the Quebec Symphony Orch...</td>\n",
       "      <td>Fabien Gabel is the music director of the Queb...</td>\n",
       "    </tr>\n",
       "    <tr>\n",
       "      <th>1</th>\n",
       "      <td>Port Harcourt – The Rivers police command on W...</td>\n",
       "      <td>Who were the four students of the University o...</td>\n",
       "      <td>The four students of the University of Port Ha...</td>\n",
       "      <td>The four students allegedly murdered were:\\n\\n...</td>\n",
       "    </tr>\n",
       "    <tr>\n",
       "      <th>2</th>\n",
       "      <td>Channels\\nMusic\\nStyle\\nPop Culture\\nSports\\nS...</td>\n",
       "      <td>What did Paul Wall offer to all U.S. Olympic M...</td>\n",
       "      <td>Paul Wall wants to give free gold grills to al...</td>\n",
       "      <td>Paul Wall offered to give free gold grills to ...</td>\n",
       "    </tr>\n",
       "    <tr>\n",
       "      <th>3</th>\n",
       "      <td>The crazy level at which African countries imp...</td>\n",
       "      <td>What are the main agricultural products that A...</td>\n",
       "      <td>African countries mainly export cocoa, edible ...</td>\n",
       "      <td>According to the text, African countries mainl...</td>\n",
       "    </tr>\n",
       "    <tr>\n",
       "      <th>4</th>\n",
       "      <td>CHI 2010 Workshop May 7 or 8, 2011 (final date...</td>\n",
       "      <td>What is the main goal of the CHI 2011 workshop...</td>\n",
       "      <td>The main goal of this one-day CHI 2011 worksho...</td>\n",
       "      <td>The main goal of the CHI 2011 workshop is to b...</td>\n",
       "    </tr>\n",
       "    <tr>\n",
       "      <th>...</th>\n",
       "      <td>...</td>\n",
       "      <td>...</td>\n",
       "      <td>...</td>\n",
       "      <td>...</td>\n",
       "    </tr>\n",
       "    <tr>\n",
       "      <th>123</th>\n",
       "      <td>The video below was found yesterday on the WaP...</td>\n",
       "      <td>What was the long-term study published in the ...</td>\n",
       "      <td>The long-term study published in the journal P...</td>\n",
       "      <td>The provided text doesn't mention a long-term ...</td>\n",
       "    </tr>\n",
       "    <tr>\n",
       "      <th>124</th>\n",
       "      <td>Trip Notes\\nA little bit about India\\nClimate:...</td>\n",
       "      <td>What is the climate like in Goa, India?</td>\n",
       "      <td>The climate in Goa is humid and tropical with ...</td>\n",
       "      <td>The climate in Goa is humid and tropical with ...</td>\n",
       "    </tr>\n",
       "    <tr>\n",
       "      <th>125</th>\n",
       "      <td>Intuition is more than just a characteristic o...</td>\n",
       "      <td>What is the relationship between intuition and...</td>\n",
       "      <td>Intuition is more than just a characteristic o...</td>\n",
       "      <td>According to the text, intuition is a cornerst...</td>\n",
       "    </tr>\n",
       "    <tr>\n",
       "      <th>126</th>\n",
       "      <td>It looks like you're using an Ad Blocker.\\nPle...</td>\n",
       "      <td>What action did Gov. Jan Brewer take in relati...</td>\n",
       "      <td>Brewer signed the 2011 legislative budget whic...</td>\n",
       "      <td>Gov. Jan Brewer signed the 2011 legislative bu...</td>\n",
       "    </tr>\n",
       "    <tr>\n",
       "      <th>127</th>\n",
       "      <td>Due to resource constraints, /g/ and /tg/ will...</td>\n",
       "      <td>What is Pomu known for in the context?</td>\n",
       "      <td>Pomu is known to be a wage slave and often lam...</td>\n",
       "      <td>Based on the provided text, Pomu is a photogra...</td>\n",
       "    </tr>\n",
       "  </tbody>\n",
       "</table>\n",
       "<p>128 rows × 4 columns</p>\n",
       "</div>"
      ],
      "text/plain": [
       "                                               context  \\\n",
       "0    HOUSTON (Jan. 23, 2018) – Fabien Gabel, music ...   \n",
       "1    Port Harcourt – The Rivers police command on W...   \n",
       "2    Channels\\nMusic\\nStyle\\nPop Culture\\nSports\\nS...   \n",
       "3    The crazy level at which African countries imp...   \n",
       "4    CHI 2010 Workshop May 7 or 8, 2011 (final date...   \n",
       "..                                                 ...   \n",
       "123  The video below was found yesterday on the WaP...   \n",
       "124  Trip Notes\\nA little bit about India\\nClimate:...   \n",
       "125  Intuition is more than just a characteristic o...   \n",
       "126  It looks like you're using an Ad Blocker.\\nPle...   \n",
       "127  Due to resource constraints, /g/ and /tg/ will...   \n",
       "\n",
       "                                              question  \\\n",
       "0    Who is the music director of the Quebec Sympho...   \n",
       "1    Who were the four students of the University o...   \n",
       "2    What did Paul Wall offer to all U.S. Olympic M...   \n",
       "3    What are the main agricultural products that A...   \n",
       "4    What is the main goal of the CHI 2011 workshop...   \n",
       "..                                                 ...   \n",
       "123  What was the long-term study published in the ...   \n",
       "124            What is the climate like in Goa, India?   \n",
       "125  What is the relationship between intuition and...   \n",
       "126  What action did Gov. Jan Brewer take in relati...   \n",
       "127             What is Pomu known for in the context?   \n",
       "\n",
       "                                                answer  \\\n",
       "0    The music director of the Quebec Symphony Orch...   \n",
       "1    The four students of the University of Port Ha...   \n",
       "2    Paul Wall wants to give free gold grills to al...   \n",
       "3    African countries mainly export cocoa, edible ...   \n",
       "4    The main goal of this one-day CHI 2011 worksho...   \n",
       "..                                                 ...   \n",
       "123  The long-term study published in the journal P...   \n",
       "124  The climate in Goa is humid and tropical with ...   \n",
       "125  Intuition is more than just a characteristic o...   \n",
       "126  Brewer signed the 2011 legislative budget whic...   \n",
       "127  Pomu is known to be a wage slave and often lam...   \n",
       "\n",
       "                                            gen_answer  \n",
       "0    Fabien Gabel is the music director of the Queb...  \n",
       "1    The four students allegedly murdered were:\\n\\n...  \n",
       "2    Paul Wall offered to give free gold grills to ...  \n",
       "3    According to the text, African countries mainl...  \n",
       "4    The main goal of the CHI 2011 workshop is to b...  \n",
       "..                                                 ...  \n",
       "123  The provided text doesn't mention a long-term ...  \n",
       "124  The climate in Goa is humid and tropical with ...  \n",
       "125  According to the text, intuition is a cornerst...  \n",
       "126  Gov. Jan Brewer signed the 2011 legislative bu...  \n",
       "127  Based on the provided text, Pomu is a photogra...  \n",
       "\n",
       "[128 rows x 4 columns]"
      ]
     },
     "execution_count": 21,
     "metadata": {},
     "output_type": "execute_result"
    }
   ],
   "source": [
    "df[:128]"
   ]
  },
  {
   "cell_type": "code",
   "execution_count": null,
   "metadata": {},
   "outputs": [],
   "source": [
    "df = df[:128]"
   ]
  },
  {
   "cell_type": "code",
   "execution_count": null,
   "metadata": {},
   "outputs": [],
   "source": [
    "df.to_csv(f'data/results/{rag_components.model_name}_128Q_Run1.csv',index=False)"
   ]
  }
 ],
 "metadata": {
  "kernelspec": {
   "display_name": ".venv",
   "language": "python",
   "name": "python3"
  },
  "language_info": {
   "codemirror_mode": {
    "name": "ipython",
    "version": 3
   },
   "file_extension": ".py",
   "mimetype": "text/x-python",
   "name": "python",
   "nbconvert_exporter": "python",
   "pygments_lexer": "ipython3",
   "version": "3.10.11"
  }
 },
 "nbformat": 4,
 "nbformat_minor": 2
}
