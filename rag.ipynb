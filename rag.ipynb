{
 "cells": [
  {
   "cell_type": "code",
   "execution_count": 9,
   "metadata": {},
   "outputs": [],
   "source": [
    "from components import Components\n",
    "from llama_index.core import Settings\n",
    "\n",
    "from llama_index.vector_stores.chroma import ChromaVectorStore\n",
    "from llama_index.core import StorageContext, SimpleDirectoryReader\n",
    "from llama_index.core.ingestion import IngestionPipeline\n",
    "from llama_index.core import VectorStoreIndex\n",
    "from llama_index.core import PromptTemplate\n",
    "\n",
    "\n",
    "from llama_index.core.node_parser import SentenceSplitter"
   ]
  },
  {
   "cell_type": "code",
   "execution_count": 2,
   "metadata": {},
   "outputs": [],
   "source": [
    "#initialise components, reranker and retriever\n",
    "rag_components = Components(\"Snowflake/snowflake-arctic-embed-m\",\"mixedbread-ai/mxbai-embed-large-v1\")"
   ]
  },
  {
   "cell_type": "markdown",
   "metadata": {},
   "source": [
    "Setting Contexts\n"
   ]
  },
  {
   "cell_type": "code",
   "execution_count": 3,
   "metadata": {},
   "outputs": [
    {
     "name": "stdout",
     "output_type": "stream",
     "text": [
      "Embedding model loaded!\n"
     ]
    }
   ],
   "source": [
    "Settings.embed_model = rag_components.get_embedding_model()\n",
    "Settings.llm = rag_components.get_groq_llm('gemma-7b-it')"
   ]
  },
  {
   "cell_type": "code",
   "execution_count": 4,
   "metadata": {},
   "outputs": [],
   "source": [
    "vector_store = ChromaVectorStore(chroma_collection=rag_components.get_db())\n",
    "storage_context = StorageContext.from_defaults(vector_store=vector_store)"
   ]
  },
  {
   "cell_type": "markdown",
   "metadata": {},
   "source": [
    "Loading Papers"
   ]
  },
  {
   "cell_type": "code",
   "execution_count": 10,
   "metadata": {},
   "outputs": [],
   "source": [
    "documents = SimpleDirectoryReader(input_dir='papers').load_data()\n",
    "pipeline = IngestionPipeline(\n",
    "    transformations=[\n",
    "          SentenceSplitter(chunk_size=1000, chunk_overlap=200),\n",
    "    ],\n",
    "    vector_store=vector_store,\n",
    ")"
   ]
  },
  {
   "cell_type": "code",
   "execution_count": 11,
   "metadata": {},
   "outputs": [
    {
     "name": "stderr",
     "output_type": "stream",
     "text": [
      "Some weights of BertForSequenceClassification were not initialized from the model checkpoint at mixedbread-ai/mxbai-embed-large-v1 and are newly initialized: ['classifier.bias', 'classifier.weight']\n",
      "You should probably TRAIN this model on a down-stream task to be able to use it for predictions and inference.\n"
     ]
    },
    {
     "name": "stdout",
     "output_type": "stream",
     "text": [
      "Reranker model loaded!\n"
     ]
    }
   ],
   "source": [
    "index = VectorStoreIndex.from_documents(\n",
    "    documents, storage_context=storage_context,similarity_top_k=10, node_postprocessors=[rag_components.get_reranker()]\n",
    ") "
   ]
  },
  {
   "cell_type": "code",
   "execution_count": 12,
   "metadata": {},
   "outputs": [],
   "source": [
    "query_engine = index.as_query_engine(streaming=True,similarity_top_k=10)\n",
    "\n",
    "\n",
    "qa_prompt_template_str = \"\"\"Context information is below.\n",
    "---------------------\n",
    "{context_str}\n",
    "---------------------\n",
    "Given the context information and not prior knowledge, answer the query based on the context given ONLY else you will be penalized. Provide your answer in an easy to read and understand format.\n",
    "Further elaborate your answer by finding examples or information within the context if possible.\n",
    "Query: {query_str}\n",
    "Answer:\n",
    "\"\"\"\n",
    "\n",
    "qa_prompt_template = PromptTemplate(qa_prompt_template_str)\n",
    "query_engine.update_prompts(\n",
    "    {\"response_synthesizer:text_qa_template\":qa_prompt_template}\n",
    ")"
   ]
  },
  {
   "cell_type": "code",
   "execution_count": 27,
   "metadata": {},
   "outputs": [
    {
     "name": "stdout",
     "output_type": "stream",
     "text": [
      "The provided text does not contain any information regarding T.R.E.N.T. Industries, so I am unable to determine whether it is a real company or not."
     ]
    },
    {
     "data": {
      "text/plain": [
       "'Index 229\\nD\\ndebit, defined, 36\\ndebit cards, 36–37\\ndebt, 205\\ndefault, 157, 166–167\\ndeficit, 205\\ndeposit, electronic, 33\\n“dipped,” 67–68\\ndividends\\ndefined, 130, 144–145\\ndividend-paying stocks, 145\\nspecial dividends, 145–146\\ntaxes on, 192\\nDow Jones Industrial Average\\n(Dow/Dow 30)\\ndefined, 57–58\\nindex funds, 56–59, 105–106\\nstocks included in, 58–59\\ndue diligence, 210\\nduration, of U.S. Treasury notes\\nversusbonds, 118–119\\nE\\nearly stage venture capital, 209\\nearnings history, of companies, 129\\nearnings per share (EPS), 131–137\\nearnings season, 141–142\\nEBITDA (Earnings Before Interest\\nTaxes Depreciation and\\nAmortization), 137–138\\neconomy, 195–206\\nbudgets and, 202–203\\nbudget types, 203–204\\ndeficit and national debt, 205\\nFederal Reserve (Fed) and,\\n195–197\\ngross domestic product (GDP),\\n198–202\\nnational debt and, 204–205\\neducated bet, 213education, 215\\nelectronic banking, 33\\nelectronic bill payment, 31–32\\nelectronic funds transfer, 38\\nenergy industry mutual funds,\\n108–109\\nequal owners, 50\\nEquifax, 164\\neuro, 10–14\\nEuronext Stock Exchange\\n(Europe), 44\\nEurozone, countries of, 11–12, 13\\nexchange fees, for mutual funds,\\n110\\nexchange rates, 13, 14–18\\nexercise price\\nfor calls, 97–99\\nfor puts, 90–92\\nexercise the call, 94–97\\nExperian, 164\\nF\\nFacebook, initial public offering\\n(IPO) of, 63–65\\nface value, 115\\nFair Isaac Corporation, 163\\nFederal Bureau of Investigation\\n(FBI), 28\\nFederal Reserve (Fed), 195–197\\nfee for service, 18–19\\nFICO score, 163–166\\n52-week moving average, 153–154\\nfinance charges, 35\\nfinancial statements\\naudited financial statements, 194\\ndefined, 179–180\\nfixed fees, 19\\nfixed income, 114\\nFlashBoys (Lewis), 80\\nfloat, 148'"
      ]
     },
     "execution_count": 27,
     "metadata": {},
     "output_type": "execute_result"
    }
   ],
   "source": [
    "response = query_engine.query(\"IS T.R.E.N.T Industries a real company?\")\n",
    "response.print_response_stream()\n",
    "response.source_nodes[0].text"
   ]
  }
 ],
 "metadata": {
  "kernelspec": {
   "display_name": ".venv",
   "language": "python",
   "name": "python3"
  },
  "language_info": {
   "codemirror_mode": {
    "name": "ipython",
    "version": 3
   },
   "file_extension": ".py",
   "mimetype": "text/x-python",
   "name": "python",
   "nbconvert_exporter": "python",
   "pygments_lexer": "ipython3",
   "version": "3.10.11"
  }
 },
 "nbformat": 4,
 "nbformat_minor": 2
}
