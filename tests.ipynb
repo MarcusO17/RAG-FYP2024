{
 "cells": [
  {
   "cell_type": "code",
   "execution_count": 2,
   "metadata": {},
   "outputs": [
    {
     "name": "stdout",
     "output_type": "stream",
     "text": [
      "{'context_window': 2900, 'num_output': 320, 'model_name': 'llama-3.1-70b-versatile', 'temperature': 0.1}\n"
     ]
    }
   ],
   "source": [
    "from groqllm import GroqLLM\n",
    "\n",
    "groq = GroqLLM(context_window=2900,num_output=320,model_name=\"llama-3.1-70b-versatile\",temperature=0.1)"
   ]
  },
  {
   "cell_type": "code",
   "execution_count": 3,
   "metadata": {},
   "outputs": [
    {
     "name": "stdout",
     "output_type": "stream",
     "text": [
      "callback_manager=<llama_index.core.callbacks.base.CallbackManager object at 0x00000112BA1334C0> system_prompt='you are a helpful assistant.' messages_to_prompt=<function messages_to_prompt at 0x00000112ED2AB910> completion_to_prompt=<function default_completion_to_prompt at 0x00000112ED33BE20> output_parser=None pydantic_program_mode=<PydanticProgramMode.DEFAULT: 'default'> query_wrapper_prompt=None context_window=2900 num_output=320 model_name='llama-3.1-70b-versatile' is_chat_model=True is_function_calling_model=True client=<groq.Groq object at 0x00000112BA5555A0> top_p=1.0 temperature=0.1 tools=None\n"
     ]
    }
   ],
   "source": [
    "print(groq)"
   ]
  },
  {
   "cell_type": "code",
   "execution_count": 5,
   "metadata": {},
   "outputs": [
    {
     "data": {
      "text/plain": [
       "{'system_prompt': 'you are a helpful assistant.',\n",
       " 'pydantic_program_mode': <PydanticProgramMode.DEFAULT: 'default'>,\n",
       " 'context_window': 2900,\n",
       " 'num_output': 320,\n",
       " 'model_name': 'llama-3.1-70b-versatile',\n",
       " 'is_chat_model': True,\n",
       " 'is_function_calling_model': True,\n",
       " 'client': <groq.Groq at 0x112ba5555a0>,\n",
       " 'top_p': 1.0,\n",
       " 'temperature': 0.1,\n",
       " 'tools': None,\n",
       " 'class_name': 'custom_llm'}"
      ]
     },
     "execution_count": 5,
     "metadata": {},
     "output_type": "execute_result"
    }
   ],
   "source": [
    "groq.dict()"
   ]
  }
 ],
 "metadata": {
  "kernelspec": {
   "display_name": ".venv",
   "language": "python",
   "name": "python3"
  },
  "language_info": {
   "codemirror_mode": {
    "name": "ipython",
    "version": 3
   },
   "file_extension": ".py",
   "mimetype": "text/x-python",
   "name": "python",
   "nbconvert_exporter": "python",
   "pygments_lexer": "ipython3",
   "version": "3.10.11"
  }
 },
 "nbformat": 4,
 "nbformat_minor": 2
}
