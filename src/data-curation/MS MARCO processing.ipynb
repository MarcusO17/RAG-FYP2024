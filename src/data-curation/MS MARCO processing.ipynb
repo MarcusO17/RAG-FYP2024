{
 "cells": [
  {
   "cell_type": "code",
   "execution_count": 1,
   "metadata": {},
   "outputs": [
    {
     "name": "stderr",
     "output_type": "stream",
     "text": [
      "e:\\Github Repositories\\RAG-FYP2024\\.venv\\lib\\site-packages\\tqdm\\auto.py:21: TqdmWarning: IProgress not found. Please update jupyter and ipywidgets. See https://ipywidgets.readthedocs.io/en/stable/user_install.html\n",
      "  from .autonotebook import tqdm as notebook_tqdm\n"
     ]
    }
   ],
   "source": [
    "import pandas as pd\n",
    "from datasets import load_dataset"
   ]
  },
  {
   "cell_type": "code",
   "execution_count": 2,
   "metadata": {},
   "outputs": [],
   "source": [
    "#Import dataset\n",
    "ds = load_dataset(\"MS_MARCO\",\"v2.1\")"
   ]
  },
  {
   "cell_type": "code",
   "execution_count": 3,
   "metadata": {},
   "outputs": [],
   "source": [
    "df = ds['train'].to_pandas()"
   ]
  },
  {
   "cell_type": "code",
   "execution_count": 4,
   "metadata": {},
   "outputs": [
    {
     "data": {
      "text/html": [
       "<div>\n",
       "<style scoped>\n",
       "    .dataframe tbody tr th:only-of-type {\n",
       "        vertical-align: middle;\n",
       "    }\n",
       "\n",
       "    .dataframe tbody tr th {\n",
       "        vertical-align: top;\n",
       "    }\n",
       "\n",
       "    .dataframe thead th {\n",
       "        text-align: right;\n",
       "    }\n",
       "</style>\n",
       "<table border=\"1\" class=\"dataframe\">\n",
       "  <thead>\n",
       "    <tr style=\"text-align: right;\">\n",
       "      <th></th>\n",
       "      <th>answers</th>\n",
       "      <th>passages</th>\n",
       "      <th>query</th>\n",
       "      <th>query_id</th>\n",
       "      <th>query_type</th>\n",
       "      <th>wellFormedAnswers</th>\n",
       "    </tr>\n",
       "  </thead>\n",
       "  <tbody>\n",
       "    <tr>\n",
       "      <th>0</th>\n",
       "      <td>[The immediate impact of the success of the ma...</td>\n",
       "      <td>{'is_selected': [1, 0, 0, 0, 0, 0, 0, 0, 0, 0]...</td>\n",
       "      <td>)what was the immediate impact of the success ...</td>\n",
       "      <td>1185869</td>\n",
       "      <td>DESCRIPTION</td>\n",
       "      <td>[]</td>\n",
       "    </tr>\n",
       "    <tr>\n",
       "      <th>1</th>\n",
       "      <td>[Restorative justice that fosters dialogue bet...</td>\n",
       "      <td>{'is_selected': [0, 0, 0, 0, 0, 0, 1, 0, 0, 0]...</td>\n",
       "      <td>_________ justice is designed to repair the ha...</td>\n",
       "      <td>1185868</td>\n",
       "      <td>DESCRIPTION</td>\n",
       "      <td>[]</td>\n",
       "    </tr>\n",
       "    <tr>\n",
       "      <th>2</th>\n",
       "      <td>[The reasons why Stalin wanted to control East...</td>\n",
       "      <td>{'is_selected': [0, 0, 0, 0, 0, 0, 1, 0, 0, 0]...</td>\n",
       "      <td>why did stalin want control of eastern europe</td>\n",
       "      <td>1185854</td>\n",
       "      <td>DESCRIPTION</td>\n",
       "      <td>[]</td>\n",
       "    </tr>\n",
       "    <tr>\n",
       "      <th>3</th>\n",
       "      <td>[Nails rust in water because water allows the ...</td>\n",
       "      <td>{'is_selected': [0, 0, 0, 0, 0, 1, 0, 0, 0, 0]...</td>\n",
       "      <td>why do nails get rusty</td>\n",
       "      <td>1185755</td>\n",
       "      <td>DESCRIPTION</td>\n",
       "      <td>[]</td>\n",
       "    </tr>\n",
       "    <tr>\n",
       "      <th>4</th>\n",
       "      <td>[Depona Ab is a library in Vilhelmina, Sweden.]</td>\n",
       "      <td>{'is_selected': [0, 0, 0, 0, 0, 0, 1, 0, 0, 0]...</td>\n",
       "      <td>depona ab</td>\n",
       "      <td>1184773</td>\n",
       "      <td>DESCRIPTION</td>\n",
       "      <td>[]</td>\n",
       "    </tr>\n",
       "  </tbody>\n",
       "</table>\n",
       "</div>"
      ],
      "text/plain": [
       "                                             answers  \\\n",
       "0  [The immediate impact of the success of the ma...   \n",
       "1  [Restorative justice that fosters dialogue bet...   \n",
       "2  [The reasons why Stalin wanted to control East...   \n",
       "3  [Nails rust in water because water allows the ...   \n",
       "4    [Depona Ab is a library in Vilhelmina, Sweden.]   \n",
       "\n",
       "                                            passages  \\\n",
       "0  {'is_selected': [1, 0, 0, 0, 0, 0, 0, 0, 0, 0]...   \n",
       "1  {'is_selected': [0, 0, 0, 0, 0, 0, 1, 0, 0, 0]...   \n",
       "2  {'is_selected': [0, 0, 0, 0, 0, 0, 1, 0, 0, 0]...   \n",
       "3  {'is_selected': [0, 0, 0, 0, 0, 1, 0, 0, 0, 0]...   \n",
       "4  {'is_selected': [0, 0, 0, 0, 0, 0, 1, 0, 0, 0]...   \n",
       "\n",
       "                                               query  query_id   query_type  \\\n",
       "0  )what was the immediate impact of the success ...   1185869  DESCRIPTION   \n",
       "1  _________ justice is designed to repair the ha...   1185868  DESCRIPTION   \n",
       "2      why did stalin want control of eastern europe   1185854  DESCRIPTION   \n",
       "3                             why do nails get rusty   1185755  DESCRIPTION   \n",
       "4                                          depona ab   1184773  DESCRIPTION   \n",
       "\n",
       "  wellFormedAnswers  \n",
       "0                []  \n",
       "1                []  \n",
       "2                []  \n",
       "3                []  \n",
       "4                []  "
      ]
     },
     "execution_count": 4,
     "metadata": {},
     "output_type": "execute_result"
    }
   ],
   "source": [
    "df.head()"
   ]
  },
  {
   "cell_type": "code",
   "execution_count": 5,
   "metadata": {},
   "outputs": [],
   "source": [
    "df['answers'] = df['answers'].apply(lambda x: x[0]) #changed answers form array to element."
   ]
  },
  {
   "cell_type": "code",
   "execution_count": 6,
   "metadata": {},
   "outputs": [],
   "source": [
    "df_new = pd.DataFrame(columns=['question','context','answers'])"
   ]
  },
  {
   "cell_type": "code",
   "execution_count": 7,
   "metadata": {},
   "outputs": [],
   "source": [
    "df_new['context'] = df['passages'].apply(lambda x: x['passage_text']) "
   ]
  },
  {
   "cell_type": "code",
   "execution_count": 8,
   "metadata": {},
   "outputs": [],
   "source": [
    "df_new['question'] = df['query']\n",
    "df_new['answers'] = df['answers']"
   ]
  },
  {
   "cell_type": "code",
   "execution_count": 9,
   "metadata": {},
   "outputs": [],
   "source": [
    "df_new = df_new[df_new['answers'] != 'No Answer Present.']"
   ]
  },
  {
   "cell_type": "code",
   "execution_count": 10,
   "metadata": {},
   "outputs": [
    {
     "data": {
      "text/html": [
       "<div>\n",
       "<style scoped>\n",
       "    .dataframe tbody tr th:only-of-type {\n",
       "        vertical-align: middle;\n",
       "    }\n",
       "\n",
       "    .dataframe tbody tr th {\n",
       "        vertical-align: top;\n",
       "    }\n",
       "\n",
       "    .dataframe thead th {\n",
       "        text-align: right;\n",
       "    }\n",
       "</style>\n",
       "<table border=\"1\" class=\"dataframe\">\n",
       "  <thead>\n",
       "    <tr style=\"text-align: right;\">\n",
       "      <th></th>\n",
       "      <th>question</th>\n",
       "      <th>context</th>\n",
       "      <th>answers</th>\n",
       "    </tr>\n",
       "  </thead>\n",
       "  <tbody>\n",
       "    <tr>\n",
       "      <th>0</th>\n",
       "      <td>)what was the immediate impact of the success ...</td>\n",
       "      <td>[The presence of communication amid scientific...</td>\n",
       "      <td>The immediate impact of the success of the man...</td>\n",
       "    </tr>\n",
       "    <tr>\n",
       "      <th>1</th>\n",
       "      <td>_________ justice is designed to repair the ha...</td>\n",
       "      <td>[group discussions, community boards or panels...</td>\n",
       "      <td>Restorative justice that fosters dialogue betw...</td>\n",
       "    </tr>\n",
       "    <tr>\n",
       "      <th>2</th>\n",
       "      <td>why did stalin want control of eastern europe</td>\n",
       "      <td>[Western betrayal. The concept of Western betr...</td>\n",
       "      <td>The reasons why Stalin wanted to control Easte...</td>\n",
       "    </tr>\n",
       "    <tr>\n",
       "      <th>3</th>\n",
       "      <td>why do nails get rusty</td>\n",
       "      <td>[what to Do If I Stepped on Rusty Nail: Preven...</td>\n",
       "      <td>Nails rust in water because water allows the i...</td>\n",
       "    </tr>\n",
       "    <tr>\n",
       "      <th>4</th>\n",
       "      <td>depona ab</td>\n",
       "      <td>[A preview of what LinkedIn members have to sa...</td>\n",
       "      <td>Depona Ab is a library in Vilhelmina, Sweden.</td>\n",
       "    </tr>\n",
       "    <tr>\n",
       "      <th>...</th>\n",
       "      <td>...</td>\n",
       "      <td>...</td>\n",
       "      <td>...</td>\n",
       "    </tr>\n",
       "    <tr>\n",
       "      <th>808725</th>\n",
       "      <td>fort selden roofing las cruces phone number</td>\n",
       "      <td>[1 The Content was created by me or by my empl...</td>\n",
       "      <td>(575) 527-1709</td>\n",
       "    </tr>\n",
       "    <tr>\n",
       "      <th>808726</th>\n",
       "      <td>nasa credit union routing number</td>\n",
       "      <td>[Complete a Direct Dispute Form if you have in...</td>\n",
       "      <td>255077833</td>\n",
       "    </tr>\n",
       "    <tr>\n",
       "      <th>808727</th>\n",
       "      <td>what county is hitchcock texas located in</td>\n",
       "      <td>[Most of the city of Hitchcock is served by th...</td>\n",
       "      <td>Galveston County</td>\n",
       "    </tr>\n",
       "    <tr>\n",
       "      <th>808728</th>\n",
       "      <td>what is blowout for hair</td>\n",
       "      <td>[And with no waiting period, the treatment is ...</td>\n",
       "      <td>All about great blowout style for about thirty...</td>\n",
       "    </tr>\n",
       "    <tr>\n",
       "      <th>808730</th>\n",
       "      <td>name some organisms that might live in a marin...</td>\n",
       "      <td>[ANIMALS. ANIMALS. The marine biome covers thr...</td>\n",
       "      <td>Walrus, star fish, eel, crabs, jelly fish, and...</td>\n",
       "    </tr>\n",
       "  </tbody>\n",
       "</table>\n",
       "<p>503370 rows × 3 columns</p>\n",
       "</div>"
      ],
      "text/plain": [
       "                                                 question  \\\n",
       "0       )what was the immediate impact of the success ...   \n",
       "1       _________ justice is designed to repair the ha...   \n",
       "2           why did stalin want control of eastern europe   \n",
       "3                                  why do nails get rusty   \n",
       "4                                               depona ab   \n",
       "...                                                   ...   \n",
       "808725        fort selden roofing las cruces phone number   \n",
       "808726                   nasa credit union routing number   \n",
       "808727          what county is hitchcock texas located in   \n",
       "808728                           what is blowout for hair   \n",
       "808730  name some organisms that might live in a marin...   \n",
       "\n",
       "                                                  context  \\\n",
       "0       [The presence of communication amid scientific...   \n",
       "1       [group discussions, community boards or panels...   \n",
       "2       [Western betrayal. The concept of Western betr...   \n",
       "3       [what to Do If I Stepped on Rusty Nail: Preven...   \n",
       "4       [A preview of what LinkedIn members have to sa...   \n",
       "...                                                   ...   \n",
       "808725  [1 The Content was created by me or by my empl...   \n",
       "808726  [Complete a Direct Dispute Form if you have in...   \n",
       "808727  [Most of the city of Hitchcock is served by th...   \n",
       "808728  [And with no waiting period, the treatment is ...   \n",
       "808730  [ANIMALS. ANIMALS. The marine biome covers thr...   \n",
       "\n",
       "                                                  answers  \n",
       "0       The immediate impact of the success of the man...  \n",
       "1       Restorative justice that fosters dialogue betw...  \n",
       "2       The reasons why Stalin wanted to control Easte...  \n",
       "3       Nails rust in water because water allows the i...  \n",
       "4           Depona Ab is a library in Vilhelmina, Sweden.  \n",
       "...                                                   ...  \n",
       "808725                                     (575) 527-1709  \n",
       "808726                                          255077833  \n",
       "808727                                   Galveston County  \n",
       "808728  All about great blowout style for about thirty...  \n",
       "808730  Walrus, star fish, eel, crabs, jelly fish, and...  \n",
       "\n",
       "[503370 rows x 3 columns]"
      ]
     },
     "execution_count": 10,
     "metadata": {},
     "output_type": "execute_result"
    }
   ],
   "source": [
    "df_new"
   ]
  },
  {
   "cell_type": "code",
   "execution_count": 11,
   "metadata": {},
   "outputs": [],
   "source": [
    "df = df_new.sample(64)"
   ]
  },
  {
   "cell_type": "code",
   "execution_count": 14,
   "metadata": {},
   "outputs": [],
   "source": [
    "df.to_csv('../../data/MS MARCO/data/MS_MARCO_64_Sample.csv',index=False)"
   ]
  }
 ],
 "metadata": {
  "kernelspec": {
   "display_name": ".venv",
   "language": "python",
   "name": "python3"
  },
  "language_info": {
   "codemirror_mode": {
    "name": "ipython",
    "version": 3
   },
   "file_extension": ".py",
   "mimetype": "text/x-python",
   "name": "python",
   "nbconvert_exporter": "python",
   "pygments_lexer": "ipython3",
   "version": "3.10.11"
  }
 },
 "nbformat": 4,
 "nbformat_minor": 2
}
