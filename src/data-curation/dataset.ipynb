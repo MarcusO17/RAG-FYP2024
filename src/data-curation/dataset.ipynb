{
 "cells": [
  {
   "cell_type": "code",
   "execution_count": 126,
   "metadata": {},
   "outputs": [],
   "source": [
    "#Loading Libraries\n",
    "import pandas as pd"
   ]
  },
  {
   "cell_type": "markdown",
   "metadata": {},
   "source": [
    "### Loading Files"
   ]
  },
  {
   "cell_type": "code",
   "execution_count": 137,
   "metadata": {},
   "outputs": [],
   "source": [
    "df_MS = pd.read_csv('../../data/MS MARCO/data/MS_MARCO_64_Sample.csv')\n",
    "df_SQuAD = pd.read_csv('../../data/SQuAD/data/SQuAD_64_QA.csv')\n",
    "df_SQuAD_context = pd.read_csv('../../data/SQuAD/data/SQuAD_64_Context.csv')"
   ]
  },
  {
   "cell_type": "markdown",
   "metadata": {},
   "source": [
    "### Curating Context"
   ]
  },
  {
   "cell_type": "code",
   "execution_count": 138,
   "metadata": {},
   "outputs": [],
   "source": [
    "df_SQuAD_context.rename(columns={'Context':'context'}, inplace=True)"
   ]
  },
  {
   "cell_type": "code",
   "execution_count": 139,
   "metadata": {},
   "outputs": [
    {
     "data": {
      "text/html": [
       "<div>\n",
       "<style scoped>\n",
       "    .dataframe tbody tr th:only-of-type {\n",
       "        vertical-align: middle;\n",
       "    }\n",
       "\n",
       "    .dataframe tbody tr th {\n",
       "        vertical-align: top;\n",
       "    }\n",
       "\n",
       "    .dataframe thead th {\n",
       "        text-align: right;\n",
       "    }\n",
       "</style>\n",
       "<table border=\"1\" class=\"dataframe\">\n",
       "  <thead>\n",
       "    <tr style=\"text-align: right;\">\n",
       "      <th></th>\n",
       "      <th>question</th>\n",
       "      <th>context</th>\n",
       "      <th>answers</th>\n",
       "    </tr>\n",
       "  </thead>\n",
       "  <tbody>\n",
       "    <tr>\n",
       "      <th>0</th>\n",
       "      <td>who introduced modern methods of surgery, such...</td>\n",
       "      <td>[\"The widespread introduction of antiseptic su...</td>\n",
       "      <td>Joseph Lister</td>\n",
       "    </tr>\n",
       "    <tr>\n",
       "      <th>1</th>\n",
       "      <td>president adams</td>\n",
       "      <td>['Save president adams cb radio to get e-mail ...</td>\n",
       "      <td>John Quincy Adams was an American statesman wh...</td>\n",
       "    </tr>\n",
       "    <tr>\n",
       "      <th>2</th>\n",
       "      <td>define semitic</td>\n",
       "      <td>['Anti-Semitism is a certain perception of Jew...</td>\n",
       "      <td>A member of any of a number of peoples of anci...</td>\n",
       "    </tr>\n",
       "    <tr>\n",
       "      <th>3</th>\n",
       "      <td>what is wudfhost service</td>\n",
       "      <td>['WUDFHost.exe errors can be related to corrup...</td>\n",
       "      <td>It is a set of Microsoft tools that aid in the...</td>\n",
       "    </tr>\n",
       "    <tr>\n",
       "      <th>4</th>\n",
       "      <td>what is an overactive pancreas</td>\n",
       "      <td>[\"An overactive pancrease would produce more e...</td>\n",
       "      <td>An overactive pancrease would produce more enz...</td>\n",
       "    </tr>\n",
       "    <tr>\n",
       "      <th>...</th>\n",
       "      <td>...</td>\n",
       "      <td>...</td>\n",
       "      <td>...</td>\n",
       "    </tr>\n",
       "    <tr>\n",
       "      <th>59</th>\n",
       "      <td>what is a signature dish</td>\n",
       "      <td>['What’s Your Signature Dish? October 8, 2015 ...</td>\n",
       "      <td>A signature dish is a dish that is closely ide...</td>\n",
       "    </tr>\n",
       "    <tr>\n",
       "      <th>60</th>\n",
       "      <td>another name for joy stick</td>\n",
       "      <td>[\"Homosexual sex position where a man has his ...</td>\n",
       "      <td>The control lever of an airplane.</td>\n",
       "    </tr>\n",
       "    <tr>\n",
       "      <th>61</th>\n",
       "      <td>what does arm wing liposuction cost</td>\n",
       "      <td>['How does arm liposuction it work? Excess arm...</td>\n",
       "      <td>Between $1,500 and $5,000</td>\n",
       "    </tr>\n",
       "    <tr>\n",
       "      <th>62</th>\n",
       "      <td>how much does a police officer make in charles...</td>\n",
       "      <td>['Average Police Officer Salaries. The average...</td>\n",
       "      <td>$34,000</td>\n",
       "    </tr>\n",
       "    <tr>\n",
       "      <th>63</th>\n",
       "      <td>what is botdf</td>\n",
       "      <td>[' Blood on the Dance Floor  is a song by Mich...</td>\n",
       "      <td>It was the only track from Blood on the Dance ...</td>\n",
       "    </tr>\n",
       "  </tbody>\n",
       "</table>\n",
       "<p>64 rows × 3 columns</p>\n",
       "</div>"
      ],
      "text/plain": [
       "                                             question  \\\n",
       "0   who introduced modern methods of surgery, such...   \n",
       "1                                     president adams   \n",
       "2                                      define semitic   \n",
       "3                            what is wudfhost service   \n",
       "4                      what is an overactive pancreas   \n",
       "..                                                ...   \n",
       "59                           what is a signature dish   \n",
       "60                         another name for joy stick   \n",
       "61                what does arm wing liposuction cost   \n",
       "62  how much does a police officer make in charles...   \n",
       "63                                      what is botdf   \n",
       "\n",
       "                                              context  \\\n",
       "0   [\"The widespread introduction of antiseptic su...   \n",
       "1   ['Save president adams cb radio to get e-mail ...   \n",
       "2   ['Anti-Semitism is a certain perception of Jew...   \n",
       "3   ['WUDFHost.exe errors can be related to corrup...   \n",
       "4   [\"An overactive pancrease would produce more e...   \n",
       "..                                                ...   \n",
       "59  ['What’s Your Signature Dish? October 8, 2015 ...   \n",
       "60  [\"Homosexual sex position where a man has his ...   \n",
       "61  ['How does arm liposuction it work? Excess arm...   \n",
       "62  ['Average Police Officer Salaries. The average...   \n",
       "63  [' Blood on the Dance Floor  is a song by Mich...   \n",
       "\n",
       "                                              answers  \n",
       "0                                       Joseph Lister  \n",
       "1   John Quincy Adams was an American statesman wh...  \n",
       "2   A member of any of a number of peoples of anci...  \n",
       "3   It is a set of Microsoft tools that aid in the...  \n",
       "4   An overactive pancrease would produce more enz...  \n",
       "..                                                ...  \n",
       "59  A signature dish is a dish that is closely ide...  \n",
       "60                  The control lever of an airplane.  \n",
       "61                          Between $1,500 and $5,000  \n",
       "62                                            $34,000  \n",
       "63  It was the only track from Blood on the Dance ...  \n",
       "\n",
       "[64 rows x 3 columns]"
      ]
     },
     "execution_count": 139,
     "metadata": {},
     "output_type": "execute_result"
    }
   ],
   "source": [
    "df_MS"
   ]
  },
  {
   "cell_type": "code",
   "execution_count": 140,
   "metadata": {},
   "outputs": [],
   "source": [
    "df_context = pd.concat([df_MS['context'], df_SQuAD_context], axis=0)"
   ]
  },
  {
   "cell_type": "code",
   "execution_count": 141,
   "metadata": {},
   "outputs": [],
   "source": [
    "df_context.to_csv('../../data/MainDataset/data/Context.csv', index=False)"
   ]
  },
  {
   "cell_type": "markdown",
   "metadata": {},
   "source": [
    "### Combining Questions"
   ]
  },
  {
   "cell_type": "code",
   "execution_count": 142,
   "metadata": {},
   "outputs": [],
   "source": [
    "df_MS.drop(columns=['context'], inplace=True)\n",
    "df_SQuAD.rename(columns={'Question':'question', 'Answer':'answers'}, inplace=True)"
   ]
  },
  {
   "cell_type": "code",
   "execution_count": 143,
   "metadata": {},
   "outputs": [],
   "source": [
    "df_qa = pd.concat([df_MS, df_SQuAD], axis=0)\n",
    "df_qa.reset_index(drop=True,inplace=True)"
   ]
  },
  {
   "cell_type": "code",
   "execution_count": 144,
   "metadata": {},
   "outputs": [
    {
     "data": {
      "text/html": [
       "<div>\n",
       "<style scoped>\n",
       "    .dataframe tbody tr th:only-of-type {\n",
       "        vertical-align: middle;\n",
       "    }\n",
       "\n",
       "    .dataframe tbody tr th {\n",
       "        vertical-align: top;\n",
       "    }\n",
       "\n",
       "    .dataframe thead th {\n",
       "        text-align: right;\n",
       "    }\n",
       "</style>\n",
       "<table border=\"1\" class=\"dataframe\">\n",
       "  <thead>\n",
       "    <tr style=\"text-align: right;\">\n",
       "      <th></th>\n",
       "      <th>question</th>\n",
       "      <th>answers</th>\n",
       "    </tr>\n",
       "  </thead>\n",
       "  <tbody>\n",
       "    <tr>\n",
       "      <th>0</th>\n",
       "      <td>who introduced modern methods of surgery, such...</td>\n",
       "      <td>Joseph Lister</td>\n",
       "    </tr>\n",
       "    <tr>\n",
       "      <th>1</th>\n",
       "      <td>president adams</td>\n",
       "      <td>John Quincy Adams was an American statesman wh...</td>\n",
       "    </tr>\n",
       "    <tr>\n",
       "      <th>2</th>\n",
       "      <td>define semitic</td>\n",
       "      <td>A member of any of a number of peoples of anci...</td>\n",
       "    </tr>\n",
       "    <tr>\n",
       "      <th>3</th>\n",
       "      <td>what is wudfhost service</td>\n",
       "      <td>It is a set of Microsoft tools that aid in the...</td>\n",
       "    </tr>\n",
       "    <tr>\n",
       "      <th>4</th>\n",
       "      <td>what is an overactive pancreas</td>\n",
       "      <td>An overactive pancrease would produce more enz...</td>\n",
       "    </tr>\n",
       "    <tr>\n",
       "      <th>...</th>\n",
       "      <td>...</td>\n",
       "      <td>...</td>\n",
       "    </tr>\n",
       "    <tr>\n",
       "      <th>123</th>\n",
       "      <td>Vice President Agnew describes Civil disobedie...</td>\n",
       "      <td>['muggers, arsonists, draft evaders, campaign ...</td>\n",
       "    </tr>\n",
       "    <tr>\n",
       "      <th>124</th>\n",
       "      <td>Civil disobedience has been argued in more rec...</td>\n",
       "      <td>['ambiguity', 'debased', 'ambiguity', 'ambigui...</td>\n",
       "    </tr>\n",
       "    <tr>\n",
       "      <th>125</th>\n",
       "      <td>What person argues that civil disobedience is ...</td>\n",
       "      <td>['Marshall Cohen', 'Marshall Cohen', 'Marshall...</td>\n",
       "    </tr>\n",
       "    <tr>\n",
       "      <th>126</th>\n",
       "      <td>In modern times, what is said about civil diso...</td>\n",
       "      <td>['become utterly debased', 'utterly debased', ...</td>\n",
       "    </tr>\n",
       "    <tr>\n",
       "      <th>127</th>\n",
       "      <td>Who gave a negative connotation to civil disob...</td>\n",
       "      <td>['Vice President Agnew', 'Vice President Agnew...</td>\n",
       "    </tr>\n",
       "  </tbody>\n",
       "</table>\n",
       "<p>128 rows × 2 columns</p>\n",
       "</div>"
      ],
      "text/plain": [
       "                                              question  \\\n",
       "0    who introduced modern methods of surgery, such...   \n",
       "1                                      president adams   \n",
       "2                                       define semitic   \n",
       "3                             what is wudfhost service   \n",
       "4                       what is an overactive pancreas   \n",
       "..                                                 ...   \n",
       "123  Vice President Agnew describes Civil disobedie...   \n",
       "124  Civil disobedience has been argued in more rec...   \n",
       "125  What person argues that civil disobedience is ...   \n",
       "126  In modern times, what is said about civil diso...   \n",
       "127  Who gave a negative connotation to civil disob...   \n",
       "\n",
       "                                               answers  \n",
       "0                                        Joseph Lister  \n",
       "1    John Quincy Adams was an American statesman wh...  \n",
       "2    A member of any of a number of peoples of anci...  \n",
       "3    It is a set of Microsoft tools that aid in the...  \n",
       "4    An overactive pancrease would produce more enz...  \n",
       "..                                                 ...  \n",
       "123  ['muggers, arsonists, draft evaders, campaign ...  \n",
       "124  ['ambiguity', 'debased', 'ambiguity', 'ambigui...  \n",
       "125  ['Marshall Cohen', 'Marshall Cohen', 'Marshall...  \n",
       "126  ['become utterly debased', 'utterly debased', ...  \n",
       "127  ['Vice President Agnew', 'Vice President Agnew...  \n",
       "\n",
       "[128 rows x 2 columns]"
      ]
     },
     "execution_count": 144,
     "metadata": {},
     "output_type": "execute_result"
    }
   ],
   "source": [
    "df_qa"
   ]
  },
  {
   "cell_type": "code",
   "execution_count": 145,
   "metadata": {},
   "outputs": [],
   "source": [
    "df_qa.to_csv('../../data/MainDataset/data/QA.csv', index=False)"
   ]
  }
 ],
 "metadata": {
  "kernelspec": {
   "display_name": ".venv",
   "language": "python",
   "name": "python3"
  },
  "language_info": {
   "codemirror_mode": {
    "name": "ipython",
    "version": 3
   },
   "file_extension": ".py",
   "mimetype": "text/x-python",
   "name": "python",
   "nbconvert_exporter": "python",
   "pygments_lexer": "ipython3",
   "version": "3.10.11"
  }
 },
 "nbformat": 4,
 "nbformat_minor": 2
}
