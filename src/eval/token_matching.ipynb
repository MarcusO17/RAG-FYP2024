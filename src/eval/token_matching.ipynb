{
 "cells": [
  {
   "cell_type": "code",
   "execution_count": 2,
   "metadata": {},
   "outputs": [
    {
     "name": "stderr",
     "output_type": "stream",
     "text": [
      "[nltk_data] Downloading package punkt to C:\\Users\\Marcus\n",
      "[nltk_data]     Ong\\AppData\\Roaming\\nltk_data...\n",
      "[nltk_data]   Package punkt is already up-to-date!\n",
      "[nltk_data] Downloading package stopwords to C:\\Users\\Marcus\n",
      "[nltk_data]     Ong\\AppData\\Roaming\\nltk_data...\n",
      "[nltk_data]   Package stopwords is already up-to-date!\n"
     ]
    }
   ],
   "source": [
    "import re\n",
    "import nltk\n",
    "from collections import Counter\n",
    "\n",
    "#download NLTK resources\n",
    "nltk.download('punkt')\n",
    "nltk.download('stopwords')\n",
    "\n",
    "#NLTK tokenizer and stopwords list\n",
    "from nltk.tokenize import word_tokenize\n",
    "from nltk.corpus import stopwords\n",
    "\n",
    "import pandas as pd"
   ]
  },
  {
   "cell_type": "code",
   "execution_count": 3,
   "metadata": {},
   "outputs": [],
   "source": [
    "swords = set(stopwords.words('english'))"
   ]
  },
  {
   "cell_type": "code",
   "execution_count": 4,
   "metadata": {},
   "outputs": [],
   "source": [
    "def normalise(ans_string):\n",
    "    # Lower string cases while removing punctuation using ReGex\n",
    "    ans_string = ans_string.lower()\n",
    "    ans_string = re.sub(r'[^A-Za-z0-9]', ' ', ans_string)\n",
    "    return ans_string\n"
   ]
  },
  {
   "cell_type": "code",
   "execution_count": 5,
   "metadata": {},
   "outputs": [],
   "source": [
    "def process_tokens(text):\n",
    "    # Tokenise using NLTK and swords\n",
    "    tokens = word_tokenize(text)\n",
    "    tokens = [token for token in tokens if token not in swords]\n",
    "    return tokens\n"
   ]
  },
  {
   "cell_type": "code",
   "execution_count": 6,
   "metadata": {},
   "outputs": [],
   "source": [
    "\n",
    "def get_tokens(pred,ground_truth):\n",
    "    #Normalise text\n",
    "    pred = normalise(pred)\n",
    "    ground_truth = normalise(ground_truth)\n",
    "\n",
    "    # Tokenize and remove stopwords using NLTK\n",
    "    pred = process_tokens(pred)\n",
    "    ground_truth = process_tokens(ground_truth)\n",
    "\n",
    "    # Count tokens\n",
    "    pred_tokens = set(pred)\n",
    "    truth_tokens = set(ground_truth)\n",
    "\n",
    "    return pred_tokens, truth_tokens\n"
   ]
  },
  {
   "cell_type": "code",
   "execution_count": 47,
   "metadata": {},
   "outputs": [],
   "source": [
    "def get_conf_mat(pred_tokens,truth_tokens):\n",
    "    #Get tokens in common\n",
    "    common_tokens = pred_tokens.intersection(truth_tokens)\n",
    "    # True Positive\n",
    "    tp = len(common_tokens)\n",
    "    # False Positive\n",
    "    fp = len(pred_tokens - truth_tokens)\n",
    "    # False Negatives\n",
    "    fn = len(truth_tokens - pred_tokens)\n",
    "\n",
    "    if tp == 0:\n",
    "        return 0.0, 0.0, 0.0\n",
    "    \n",
    "    return tp,fp,fn"
   ]
  },
  {
   "cell_type": "code",
   "execution_count": 53,
   "metadata": {},
   "outputs": [],
   "source": [
    "def precision_score(tp,fp):\n",
    "    if tp + fp == 0:\n",
    "        return 0\n",
    "    return tp /(tp+fp)\n",
    "\n",
    "def recall_score(tp,fn):\n",
    "    if tp + fn == 0:\n",
    "        return 0\n",
    "    return tp /(tp+fn)\n",
    "\n",
    "def f1_score(precision,recall):\n",
    "    if precision == 0 or recall == 0:\n",
    "        return 0.0\n",
    "    return (2 * precision * recall) / (precision + recall)"
   ]
  },
  {
   "cell_type": "code",
   "execution_count": 9,
   "metadata": {},
   "outputs": [],
   "source": [
    "adv_rag = pd.read_csv('../../data/MainDataset/results/Official/Advanced_RAG_3.csv')\n",
    "naive_rag = pd.read_csv('../../data/MainDataset/results/Official/Naive_RAG.csv')\n",
    "no_rag = pd.read_csv('../../data/MainDataset/results/Official/llama-8b-8192.csv')"
   ]
  },
  {
   "cell_type": "code",
   "execution_count": 10,
   "metadata": {},
   "outputs": [],
   "source": [
    "adv_rag.drop(columns=['Unnamed: 4','Unnamed: 5','Unnamed: 6'], inplace=True)"
   ]
  },
  {
   "cell_type": "code",
   "execution_count": 55,
   "metadata": {},
   "outputs": [
    {
     "name": "stdout",
     "output_type": "stream",
     "text": [
      "Advanced RAG Metrics\n",
      "Precision : 0.386\n",
      "Recall : 0.696\n",
      "F1 Score : 0.442\n"
     ]
    }
   ],
   "source": [
    "precision = 0\n",
    "recall = 0\n",
    "f1 = 0\n",
    "for index, row in adv_rag.iterrows(): \n",
    "    pred_tokens, truth_tokens = get_tokens(row['gen_answer'],row['answers'])\n",
    "    tp,fp,fn = get_conf_mat(pred_tokens,truth_tokens)\n",
    "    precision += precision_score(tp,fp)\n",
    "    recall += recall_score(tp,fn)\n",
    "    f1 += f1_score(precision_score(tp,fp),recall_score(tp,fn))\n",
    " \n",
    "print(\"Advanced RAG Metrics\")\n",
    "print(f\"Precision : {precision/len(adv_rag['gen_answer']):.3f}\")\n",
    "print(f\"Recall : {recall/len(adv_rag['gen_answer']):.3f}\")\n",
    "print(f\"F1 Score : {f1/len(adv_rag['gen_answer']):.3f}\")\n"
   ]
  },
  {
   "cell_type": "code",
   "execution_count": 57,
   "metadata": {},
   "outputs": [
    {
     "name": "stdout",
     "output_type": "stream",
     "text": [
      "Naive RAG Metrics\n",
      "Precision : 0.359\n",
      "Recall : 0.692\n",
      "F1 Score : 0.416\n"
     ]
    }
   ],
   "source": [
    "precision = 0\n",
    "recall = 0\n",
    "f1 = 0\n",
    "for index, row in naive_rag.iterrows(): \n",
    "    pred_tokens, truth_tokens = get_tokens(row['gen_answer'],row['answers'])\n",
    "    tp,fp,fn = get_conf_mat(pred_tokens,truth_tokens)\n",
    "    precision += precision_score(tp,fp)\n",
    "    recall += recall_score(tp,fn)\n",
    "    f1 += f1_score(precision_score(tp,fp),recall_score(tp,fn))\n",
    " \n",
    "print(\"Naive RAG Metrics\")\n",
    "print(f\"Precision : {precision/len(naive_rag['gen_answer']):.3f}\")\n",
    "print(f\"Recall : {recall/len(naive_rag['gen_answer']):.3f}\")\n",
    "print(f\"F1 Score : {f1/len(naive_rag['gen_answer']):.3f}\")\n"
   ]
  },
  {
   "cell_type": "code",
   "execution_count": 56,
   "metadata": {},
   "outputs": [
    {
     "name": "stdout",
     "output_type": "stream",
     "text": [
      "No RAG Metrics\n",
      "Precision : 0.239\n",
      "Recall : 0.396\n",
      "F1 Score : 0.266\n"
     ]
    }
   ],
   "source": [
    "precision = 0\n",
    "recall = 0\n",
    "f1 = 0\n",
    "for index, row in no_rag.iterrows(): \n",
    "    pred_tokens, truth_tokens = get_tokens(row['gen_answer'],row['answers'])\n",
    "    tp,fp,fn = get_conf_mat(pred_tokens,truth_tokens)\n",
    "    precision += precision_score(tp,fp)\n",
    "    recall += recall_score(tp,fn)\n",
    "    f1 += f1_score(precision_score(tp,fp),recall_score(tp,fn))\n",
    " \n",
    "print(\"No RAG Metrics\")\n",
    "print(f\"Precision : {precision/len(no_rag['gen_answer']):.3f}\")\n",
    "print(f\"Recall : {recall/len(no_rag['gen_answer']):.3f}\")\n",
    "print(f\"F1 Score : {f1/len(no_rag['gen_answer']):.3f}\")\n"
   ]
  }
 ],
 "metadata": {
  "kernelspec": {
   "display_name": ".venv",
   "language": "python",
   "name": "python3"
  },
  "language_info": {
   "codemirror_mode": {
    "name": "ipython",
    "version": 3
   },
   "file_extension": ".py",
   "mimetype": "text/x-python",
   "name": "python",
   "nbconvert_exporter": "python",
   "pygments_lexer": "ipython3",
   "version": "3.10.11"
  }
 },
 "nbformat": 4,
 "nbformat_minor": 2
}
