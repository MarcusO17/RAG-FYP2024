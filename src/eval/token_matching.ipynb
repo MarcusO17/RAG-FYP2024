{
 "cells": [
  {
   "cell_type": "code",
   "execution_count": 1,
   "metadata": {},
   "outputs": [
    {
     "name": "stderr",
     "output_type": "stream",
     "text": [
      "[nltk_data] Downloading package punkt to C:\\Users\\Marcus\n",
      "[nltk_data]     Ong\\AppData\\Roaming\\nltk_data...\n",
      "[nltk_data]   Package punkt is already up-to-date!\n",
      "[nltk_data] Downloading package stopwords to C:\\Users\\Marcus\n",
      "[nltk_data]     Ong\\AppData\\Roaming\\nltk_data...\n",
      "[nltk_data]   Package stopwords is already up-to-date!\n"
     ]
    }
   ],
   "source": [
    "import re\n",
    "import nltk\n",
    "\n",
    "#download NLTK resources\n",
    "nltk.download('punkt')\n",
    "nltk.download('stopwords')\n",
    "\n",
    "#NLTK tokenizer and stopwords list\n",
    "from nltk.tokenize import word_tokenize\n",
    "from nltk.corpus import stopwords\n",
    "\n",
    "import pandas as pd"
   ]
  },
  {
   "cell_type": "code",
   "execution_count": 2,
   "metadata": {},
   "outputs": [],
   "source": [
    "swords = set(stopwords.words('english'))"
   ]
  },
  {
   "cell_type": "code",
   "execution_count": 3,
   "metadata": {},
   "outputs": [],
   "source": [
    "def normalise(text):\n",
    "    # Lower string cases while removing punctuation using ReGex\n",
    "    ans_text = text.lower()\n",
    "    ans_text = re.sub(r'[^A-Za-z0-9]', ' ', text)\n",
    "    return ans_text\n"
   ]
  },
  {
   "cell_type": "code",
   "execution_count": 4,
   "metadata": {},
   "outputs": [],
   "source": [
    "def process_tokens(text):\n",
    "    # Tokenise using NLTK and swords\n",
    "    tokens = word_tokenize(text)\n",
    "    tokens = [token for token in tokens if token not in swords]\n",
    "    return tokens\n"
   ]
  },
  {
   "cell_type": "code",
   "execution_count": 5,
   "metadata": {},
   "outputs": [],
   "source": [
    "\n",
    "def get_tokens(pred,ground_truth):\n",
    "    #Normalise text\n",
    "    pred = normalise(pred)\n",
    "    ground_truth = normalise(ground_truth)\n",
    "\n",
    "    # Tokenize and remove stopwords using NLTK\n",
    "    pred = process_tokens(pred)\n",
    "    ground_truth = process_tokens(ground_truth)\n",
    "\n",
    "    # Count tokens\n",
    "    pred_tokens = set(pred)\n",
    "    truth_tokens = set(ground_truth)\n",
    "\n",
    "    return pred_tokens, truth_tokens\n"
   ]
  },
  {
   "cell_type": "code",
   "execution_count": 14,
   "metadata": {},
   "outputs": [],
   "source": [
    "def get_common_tokens(pred_tokens,truth_tokens):\n",
    "    #Get tokens in common\n",
    "    common_tokens = pred_tokens.intersection(truth_tokens)\n",
    "    return common_tokens"
   ]
  },
  {
   "cell_type": "code",
   "execution_count": 21,
   "metadata": {},
   "outputs": [
    {
     "data": {
      "text/plain": [
       "0.0"
      ]
     },
     "execution_count": 21,
     "metadata": {},
     "output_type": "execute_result"
    }
   ],
   "source": [
    "0 / 10\n"
   ]
  },
  {
   "cell_type": "code",
   "execution_count": 28,
   "metadata": {},
   "outputs": [],
   "source": [
    "def precision_score(common_tokens,pred_tokens):\n",
    "    return len(common_tokens) / len(pred_tokens)\n",
    "\n",
    "def recall_score(common_tokens,truth_tokens):\n",
    "    return len(common_tokens) / len(truth_tokens)\n",
    "\n",
    "def f1_score(precision,recall):\n",
    "    if precision + recall == 0:\n",
    "        return 0\n",
    "    return (2 * precision * recall) / (precision + recall)"
   ]
  },
  {
   "cell_type": "code",
   "execution_count": 29,
   "metadata": {},
   "outputs": [],
   "source": [
    "adv_rag = pd.read_csv('../../data/MainDataset/results/Official/Advanced_RAG.csv')\n",
    "naive_rag = pd.read_csv('../../data/MainDataset/results/Official/Naive_RAG.csv')\n",
    "no_rag = pd.read_csv('../../data/MainDataset/results/Official/llama-8b-8192.csv')"
   ]
  },
  {
   "cell_type": "code",
   "execution_count": 31,
   "metadata": {},
   "outputs": [
    {
     "name": "stdout",
     "output_type": "stream",
     "text": [
      "Advanced RAG Metrics\n",
      "Precision : 0.351\n",
      "Recall : 0.662\n",
      "F1 Score : 0.411\n"
     ]
    }
   ],
   "source": [
    "total_precision = 0\n",
    "total_recall = 0\n",
    "total_f1 = 0\n",
    "for index, row in adv_rag.iterrows(): \n",
    "    pred_tokens, truth_tokens = get_tokens(row['gen_answer'],row['answers'])\n",
    "    common_tokens = get_common_tokens(pred_tokens,truth_tokens)\n",
    "    total_precision += precision_score(common_tokens,pred_tokens)\n",
    "    total_recall += recall_score(common_tokens,truth_tokens)\n",
    "    total_f1 += f1_score(precision_score(common_tokens,pred_tokens),recall_score(common_tokens,truth_tokens))\n",
    " \n",
    " \n",
    "print(\"Advanced RAG Metrics\")\n",
    "print(f\"Precision : {total_precision/len(adv_rag['gen_answer']):.3f}\")\n",
    "print(f\"Recall : {total_recall/len(adv_rag['gen_answer']):.3f}\")\n",
    "print(f\"F1 Score : {total_f1/len(adv_rag['gen_answer']):.3f}\")\n"
   ]
  },
  {
   "cell_type": "code",
   "execution_count": 37,
   "metadata": {},
   "outputs": [
    {
     "name": "stdout",
     "output_type": "stream",
     "text": [
      "Naive RAG Metrics\n",
      "Precision : 0.332\n",
      "Recall : 0.631\n",
      "F1 Score : 0.383\n"
     ]
    }
   ],
   "source": [
    "total_precision = 0\n",
    "total_recall = 0\n",
    "total_f1 = 0\n",
    "for index, row in naive_rag.iterrows(): \n",
    "    pred_tokens, truth_tokens = get_tokens(row['gen_answer'],row['answers'])\n",
    "    common_tokens = get_common_tokens(pred_tokens,truth_tokens)\n",
    "    total_precision += precision_score(common_tokens,pred_tokens)\n",
    "    total_recall += recall_score(common_tokens,truth_tokens)\n",
    "    total_f1 += f1_score(precision_score(common_tokens,pred_tokens),recall_score(common_tokens,truth_tokens))\n",
    " \n",
    " \n",
    "print(\"Naive RAG Metrics\")\n",
    "print(f\"Precision : {total_precision/len(adv_rag['gen_answer']):.3f}\")\n",
    "print(f\"Recall : {total_recall/len(adv_rag['gen_answer']):.3f}\")\n",
    "print(f\"F1 Score : {total_f1/len(adv_rag['gen_answer']):.3f}\")\n"
   ]
  },
  {
   "cell_type": "code",
   "execution_count": 36,
   "metadata": {},
   "outputs": [
    {
     "name": "stdout",
     "output_type": "stream",
     "text": [
      "Non RAG Metrics\n",
      "Precision : 0.212\n",
      "Recall : 0.340\n",
      "F1 Score : 0.234\n"
     ]
    }
   ],
   "source": [
    "total_precision = 0\n",
    "total_recall = 0\n",
    "total_f1 = 0\n",
    "for index, row in no_rag.iterrows(): \n",
    "    pred_tokens, truth_tokens = get_tokens(row['gen_answer'],row['answers'])\n",
    "    common_tokens = get_common_tokens(pred_tokens,truth_tokens)\n",
    "    total_precision += precision_score(common_tokens,pred_tokens)\n",
    "    total_recall += recall_score(common_tokens,truth_tokens)\n",
    "    total_f1 += f1_score(precision_score(common_tokens,pred_tokens),recall_score(common_tokens,truth_tokens))\n",
    " \n",
    " \n",
    "print(\"Non RAG Metrics\")\n",
    "print(f\"Precision : {total_precision/len(adv_rag['gen_answer']):.3f}\")\n",
    "print(f\"Recall : {total_recall/len(adv_rag['gen_answer']):.3f}\")\n",
    "print(f\"F1 Score : {total_f1/len(adv_rag['gen_answer']):.3f}\")\n"
   ]
  }
 ],
 "metadata": {
  "kernelspec": {
   "display_name": ".venv",
   "language": "python",
   "name": "python3"
  },
  "language_info": {
   "codemirror_mode": {
    "name": "ipython",
    "version": 3
   },
   "file_extension": ".py",
   "mimetype": "text/x-python",
   "name": "python",
   "nbconvert_exporter": "python",
   "pygments_lexer": "ipython3",
   "version": "3.10.11"
  }
 },
 "nbformat": 4,
 "nbformat_minor": 2
}
